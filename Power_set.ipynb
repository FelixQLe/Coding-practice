{
 "cells": [
  {
   "cell_type": "code",
   "execution_count": 1,
   "id": "607a133b",
   "metadata": {},
   "outputs": [],
   "source": [
    "x = {1,2,3}"
   ]
  },
  {
   "cell_type": "code",
   "execution_count": 49,
   "id": "cd08f315",
   "metadata": {},
   "outputs": [],
   "source": [
    "def powerSet(x):\n",
    "    power_set = [[]]\n",
    "    \n",
    "    for elem in x:\n",
    "        for sub in power_set:\n",
    "            power_set = power_set+[list(sub)+[elem]]\n",
    "            \n",
    "    return power_set\n",
    "        "
   ]
  },
  {
   "cell_type": "code",
   "execution_count": 63,
   "id": "d8fe0e71",
   "metadata": {},
   "outputs": [],
   "source": [
    "from itertools import chain, combinations\n",
    "\n",
    "def powerset(iterable):\n",
    "    \"powerset([1,2,3]) --> () (1,) (2,) (3,) (1,2) (1,3) (2,3) (1,2,3)\"\n",
    "    list_return = []\n",
    "    s = list(iterable)\n",
    "    #return chain.from_iterable(combinations(s, r) for r in range(len(s)+1))\n",
    "    for r in range(len(s)+1):\n",
    "        for combn in combinations(s, r):\n",
    "            list_return.append(list(combn))\n",
    "    \n",
    "    return list_return"
   ]
  },
  {
   "cell_type": "code",
   "execution_count": 64,
   "id": "61afd6a7",
   "metadata": {},
   "outputs": [
    {
     "data": {
      "text/plain": [
       "[('a', 'b', 'c')]"
      ]
     },
     "execution_count": 64,
     "metadata": {},
     "output_type": "execute_result"
    }
   ],
   "source": [
    "list(combinations(list('abc'), 3))"
   ]
  },
  {
   "cell_type": "code",
   "execution_count": 65,
   "id": "c53bf0fe",
   "metadata": {},
   "outputs": [
    {
     "data": {
      "text/plain": [
       "[[], [1], [2], [3], [1, 2], [1, 3], [2, 3], [1, 2, 3]]"
      ]
     },
     "execution_count": 65,
     "metadata": {},
     "output_type": "execute_result"
    }
   ],
   "source": [
    "powerset(x)"
   ]
  },
  {
   "cell_type": "code",
   "execution_count": 66,
   "id": "92c8241a",
   "metadata": {},
   "outputs": [
    {
     "data": {
      "text/plain": [
       "[[], [1], [2], [1, 2], [3], [1, 3], [2, 3], [1, 2, 3]]"
      ]
     },
     "execution_count": 66,
     "metadata": {},
     "output_type": "execute_result"
    }
   ],
   "source": [
    "powerSet(x)"
   ]
  }
 ],
 "metadata": {
  "kernelspec": {
   "display_name": "Python 3.8 (tensorflow)",
   "language": "python",
   "name": "lighthouse"
  },
  "language_info": {
   "codemirror_mode": {
    "name": "ipython",
    "version": 3
   },
   "file_extension": ".py",
   "mimetype": "text/x-python",
   "name": "python",
   "nbconvert_exporter": "python",
   "pygments_lexer": "ipython3",
   "version": "3.9.13"
  }
 },
 "nbformat": 4,
 "nbformat_minor": 5
}
