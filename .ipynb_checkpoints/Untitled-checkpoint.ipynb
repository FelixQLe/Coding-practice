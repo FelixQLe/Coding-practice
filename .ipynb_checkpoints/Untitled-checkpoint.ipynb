{
 "cells": [
  {
   "cell_type": "code",
   "execution_count": 5,
   "id": "ffc46c20",
   "metadata": {},
   "outputs": [],
   "source": [
    "#Importing packages.\n",
    "import pandas as pd\n",
    "import matplotlib.pyplot as plt\n",
    "import numpy as np\n",
    "\n",
    "message_df = pd.read_csv('https://raw.githubusercontent.com/erood/interviewqs.com_code_snippets/master/Datasets/sample_message_dataset.csv')"
   ]
  },
  {
   "cell_type": "code",
   "execution_count": 6,
   "id": "242a51b3",
   "metadata": {},
   "outputs": [],
   "source": [
    "message_df.to_csv('data/message.csv', index=False)"
   ]
  },
  {
   "cell_type": "code",
   "execution_count": 7,
   "id": "7c581e05",
   "metadata": {},
   "outputs": [],
   "source": [
    "message_df = pd.read_csv('data/message.csv')"
   ]
  },
  {
   "cell_type": "code",
   "execution_count": 29,
   "id": "9f344ac2",
   "metadata": {},
   "outputs": [
    {
     "name": "stdout",
     "output_type": "stream",
     "text": [
      "(86, 4)\n"
     ]
    },
    {
     "data": {
      "text/html": [
       "<div>\n",
       "<style scoped>\n",
       "    .dataframe tbody tr th:only-of-type {\n",
       "        vertical-align: middle;\n",
       "    }\n",
       "\n",
       "    .dataframe tbody tr th {\n",
       "        vertical-align: top;\n",
       "    }\n",
       "\n",
       "    .dataframe thead th {\n",
       "        text-align: right;\n",
       "    }\n",
       "</style>\n",
       "<table border=\"1\" class=\"dataframe\">\n",
       "  <thead>\n",
       "    <tr style=\"text-align: right;\">\n",
       "      <th></th>\n",
       "      <th>date</th>\n",
       "      <th>timestamp</th>\n",
       "      <th>sender_id</th>\n",
       "      <th>receiver_id</th>\n",
       "    </tr>\n",
       "  </thead>\n",
       "  <tbody>\n",
       "    <tr>\n",
       "      <th>0</th>\n",
       "      <td>2018-03-01</td>\n",
       "      <td>1519923378</td>\n",
       "      <td>1</td>\n",
       "      <td>5</td>\n",
       "    </tr>\n",
       "    <tr>\n",
       "      <th>1</th>\n",
       "      <td>2018-03-01</td>\n",
       "      <td>1519942810</td>\n",
       "      <td>1</td>\n",
       "      <td>4</td>\n",
       "    </tr>\n",
       "    <tr>\n",
       "      <th>2</th>\n",
       "      <td>2018-03-01</td>\n",
       "      <td>1519918950</td>\n",
       "      <td>1</td>\n",
       "      <td>5</td>\n",
       "    </tr>\n",
       "    <tr>\n",
       "      <th>3</th>\n",
       "      <td>2018-03-01</td>\n",
       "      <td>1519930114</td>\n",
       "      <td>1</td>\n",
       "      <td>2</td>\n",
       "    </tr>\n",
       "    <tr>\n",
       "      <th>4</th>\n",
       "      <td>2018-03-01</td>\n",
       "      <td>1519920410</td>\n",
       "      <td>1</td>\n",
       "      <td>2</td>\n",
       "    </tr>\n",
       "  </tbody>\n",
       "</table>\n",
       "</div>"
      ],
      "text/plain": [
       "         date   timestamp  sender_id  receiver_id\n",
       "0  2018-03-01  1519923378          1            5\n",
       "1  2018-03-01  1519942810          1            4\n",
       "2  2018-03-01  1519918950          1            5\n",
       "3  2018-03-01  1519930114          1            2\n",
       "4  2018-03-01  1519920410          1            2"
      ]
     },
     "execution_count": 29,
     "metadata": {},
     "output_type": "execute_result"
    }
   ],
   "source": [
    "print(message_df.shape)\n",
    "message_df.head(5)"
   ]
  },
  {
   "cell_type": "code",
   "execution_count": 34,
   "id": "6d88e808",
   "metadata": {},
   "outputs": [],
   "source": [
    "#use sender_id and receiver_id to create primary key\n",
    "message_df['key'] = np.where(message_df['sender_id'] >= message_df['receiver_id'],\\\n",
    "                            message_df['receiver_id']+message_df['sender_id'],\n",
    "                            message_df['receiver_id'])"
   ]
  },
  {
   "cell_type": "code",
   "execution_count": 35,
   "id": "60875722",
   "metadata": {},
   "outputs": [
    {
     "data": {
      "text/plain": [
       "array([1001, 1001, 1001, 1001, 1001, 1001, 1001,    4, 1001,    4, 1001,\n",
       "       1001, 1001,    5, 1001,    6,    5, 1001, 1001, 1001,    8, 1001,\n",
       "       1001,   10, 1001,    8,    7,    7,   10,   12, 1001,    9,   10,\n",
       "         13,   11,   13,    9,    9,   11,   11,   12,   11,   15,    6,\n",
       "          5,    6,    3,    3,    5,    6,    4,    5,    4,    8,    9,\n",
       "         10, 1001,    9,    6, 1001,   10,   11,    9,    8,   10,   11,\n",
       "         10,   11, 1001, 1001, 1001, 1001,   12,   14, 1001, 1001, 1001,\n",
       "       1001, 1001, 1001, 1001, 1001, 1001, 1001, 1001, 1001])"
      ]
     },
     "execution_count": 35,
     "metadata": {},
     "output_type": "execute_result"
    }
   ],
   "source": [
    "np.where(message_df['sender_id'] >= message_df['receiver_id'],\n",
    "         message_df['receiver_id']+message_df['sender_id'], 1001)"
   ]
  },
  {
   "cell_type": "code",
   "execution_count": null,
   "id": "60f5bb3c",
   "metadata": {},
   "outputs": [],
   "source": []
  }
 ],
 "metadata": {
  "kernelspec": {
   "display_name": "Python 3.8 (tensorflow)",
   "language": "python",
   "name": "lighthouse"
  },
  "language_info": {
   "codemirror_mode": {
    "name": "ipython",
    "version": 3
   },
   "file_extension": ".py",
   "mimetype": "text/x-python",
   "name": "python",
   "nbconvert_exporter": "python",
   "pygments_lexer": "ipython3",
   "version": "3.9.13"
  }
 },
 "nbformat": 4,
 "nbformat_minor": 5
}
