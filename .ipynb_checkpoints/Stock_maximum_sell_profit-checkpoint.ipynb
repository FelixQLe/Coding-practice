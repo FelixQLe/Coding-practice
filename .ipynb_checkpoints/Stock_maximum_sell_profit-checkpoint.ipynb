{
 "cells": [
  {
   "cell_type": "markdown",
   "id": "fd332e4a",
   "metadata": {},
   "source": [
    "Suppose we are given an array of n integers which represent the value of some stock over time. Assuming you are allowed to buy the stock exactly once and sell the stock once, what is the maximum profit you can make? Can you write an algorithm that takes in an array of values and returns the maximum profit?\n",
    "\n",
    "For example, if you are given the following array:\n",
    "\n",
    "[2, 7, 1, 8, 2, 8, 14, 25, 14, 0, 4, 5]\n",
    "The maximum profit you can make is 24 because you would buy the stock when its price is 1 and sell when it's 25. Note that we cannot make 25, because the stock is priced at 0 after it is priced at 25 (e.g you can't sell before you buy)."
   ]
  },
  {
   "cell_type": "code",
   "execution_count": 4,
   "id": "56e53d32",
   "metadata": {},
   "outputs": [],
   "source": [
    "def version1_SellProfit(arr):\n",
    "#consider all pars of values and pick the one with highest net profit\n",
    "#input array n [2, 7, 1, 8, 2, 8, 14, 25, 14, 0, 4, 5]\n",
    "    max_profit = 0;\n",
    "    for i in range(0, len(arr)):\n",
    "        for j in range (i + 1, len(arr)):\n",
    "            max_profit = max(max_profit, arr[j] - arr[i])\n",
    "    return max_profit"
   ]
  },
  {
   "cell_type": "code",
   "execution_count": 5,
   "id": "b2955900",
   "metadata": {},
   "outputs": [],
   "source": [
    "arr = [2, 7, 1, 8, 2, 8, 14, 25, 14, 0, 4, 5]\n"
   ]
  },
  {
   "cell_type": "code",
   "execution_count": 6,
   "id": "b3e06485",
   "metadata": {},
   "outputs": [
    {
     "data": {
      "text/plain": [
       "24"
      ]
     },
     "execution_count": 6,
     "metadata": {},
     "output_type": "execute_result"
    }
   ],
   "source": [
    "version1_SellProfit(arr)"
   ]
  },
  {
   "cell_type": "code",
   "execution_count": 8,
   "id": "7266ee77",
   "metadata": {},
   "outputs": [],
   "source": [
    "def version2_SellProfit(n):\n",
    "    #recursion version\n",
    "    #divide the array into two halves and compute the max profit in both\n",
    "    if len(n) <= 1:\n",
    "        return 0\n",
    "    left  = n[ : len(n) // 2]\n",
    "    right = n[len(n) // 2 : ]\n",
    "    \n",
    "    leftMax  = version2_SellProfit(left)\n",
    "    rightMax = version2_SellProfit(right)\n",
    "    \n",
    "    crossMax = max(right) - min(left)\n",
    "    \n",
    "    return max(leftMax, rightMax, crossMax)"
   ]
  },
  {
   "cell_type": "code",
   "execution_count": 9,
   "id": "b72f7fa2",
   "metadata": {},
   "outputs": [
    {
     "data": {
      "text/plain": [
       "24"
      ]
     },
     "execution_count": 9,
     "metadata": {},
     "output_type": "execute_result"
    }
   ],
   "source": [
    "version2_SellProfit(arr)"
   ]
  },
  {
   "cell_type": "code",
   "execution_count": null,
   "id": "5ad20145",
   "metadata": {},
   "outputs": [],
   "source": []
  }
 ],
 "metadata": {
  "kernelspec": {
   "display_name": "Python 3.8 (tensorflow)",
   "language": "python",
   "name": "lighthouse"
  },
  "language_info": {
   "codemirror_mode": {
    "name": "ipython",
    "version": 3
   },
   "file_extension": ".py",
   "mimetype": "text/x-python",
   "name": "python",
   "nbconvert_exporter": "python",
   "pygments_lexer": "ipython3",
   "version": "3.9.13"
  }
 },
 "nbformat": 4,
 "nbformat_minor": 5
}
