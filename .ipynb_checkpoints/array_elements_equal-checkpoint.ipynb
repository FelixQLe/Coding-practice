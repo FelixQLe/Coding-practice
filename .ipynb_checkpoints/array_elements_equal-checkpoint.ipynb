{
 "cells": [
  {
   "cell_type": "code",
   "execution_count": 1,
   "id": "16bbb748",
   "metadata": {},
   "outputs": [],
   "source": [
    "# Define our function\n",
    "def isEqual(a, n):  \n",
    "    #\n",
    "    # Loop through each element in array \n",
    "    #\n",
    "    for i in range(0, n):  \n",
    "        #\n",
    "        # If divisible by 2 (with no remainder)\n",
    "        #\n",
    "        while a[i] % 2 == 0:  \n",
    "            #\n",
    "            # Then divide by 2 \n",
    "            # (until we can't divide by 2 any more)\n",
    "            #\n",
    "            a[i] //= 2\n",
    "        #    \n",
    "        # If divisible by 7 (with no remainder) \n",
    "        #\n",
    "        while a[i] % 7 == 0:  \n",
    "            #\n",
    "            # Then divide by 7\n",
    "            # (until we can't divide by 7 any more)\n",
    "            #\n",
    "            a[i] //= 7\n",
    "        #\n",
    "        # Printing our a[i] value \n",
    "        # at each step, function is checking \n",
    "        # whether each element is equal here as we\n",
    "        # step through -- don't need to print but this is helpful to see\n",
    "        #\n",
    "        print(a[i])\n",
    "        #\n",
    "        # If any element is not equal \n",
    "        # to the first element (as we loop through)\n",
    "        # then return false\n",
    "        #\n",
    "        if a[i] != a[0]:  \n",
    "            return False\n",
    "          \n",
    "    # Otherwise, all elements equal, return true    \n",
    "    return True"
   ]
  },
  {
   "cell_type": "code",
   "execution_count": 2,
   "id": "63357499",
   "metadata": {},
   "outputs": [
    {
     "name": "stdout",
     "output_type": "stream",
     "text": [
      "1\n",
      "1\n",
      "1\n"
     ]
    },
    {
     "data": {
      "text/plain": [
       "True"
      ]
     },
     "execution_count": 2,
     "metadata": {},
     "output_type": "execute_result"
    }
   ],
   "source": [
    "# Driver code  \n",
    "a = [128, 4, 2]\n",
    "\n",
    "isEqual(a, len(a))"
   ]
  },
  {
   "cell_type": "code",
   "execution_count": null,
   "id": "ce6aa8d4",
   "metadata": {},
   "outputs": [],
   "source": []
  }
 ],
 "metadata": {
  "kernelspec": {
   "display_name": "Python 3.8 (tensorflow)",
   "language": "python",
   "name": "lighthouse"
  },
  "language_info": {
   "codemirror_mode": {
    "name": "ipython",
    "version": 3
   },
   "file_extension": ".py",
   "mimetype": "text/x-python",
   "name": "python",
   "nbconvert_exporter": "python",
   "pygments_lexer": "ipython3",
   "version": "3.9.13"
  }
 },
 "nbformat": 4,
 "nbformat_minor": 5
}
