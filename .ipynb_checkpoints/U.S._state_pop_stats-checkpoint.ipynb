{
 "cells": [
  {
   "cell_type": "code",
   "execution_count": 11,
   "id": "c505ca01",
   "metadata": {},
   "outputs": [],
   "source": [
    "#Importing packages.\n",
    "import pandas as pd\n",
    "import matplotlib.pyplot as plt\n",
    "import numpy as np\n",
    "%matplotlib inline\n",
    "\n",
    "#reading csv into a dataframe and save to local\n",
    "us_population = pd.read_csv('https://raw.githubusercontent.com/erood/interviewqs.com_code_snippets/master/Datasets/us_state_populations.csv')\n",
    "us_population.to_csv(\"data/us_population.csv\", index=False)\n",
    "us_births_deaths = pd.read_csv('https://raw.githubusercontent.com/erood/interviewqs.com_code_snippets/master/Datasets/us_state_births.csv')\n",
    "us_births_deaths.to_csv(\"data/us_births_deaths.csv\", index=False)"
   ]
  },
  {
   "cell_type": "code",
   "execution_count": 12,
   "id": "ed118f54",
   "metadata": {},
   "outputs": [],
   "source": [
    "#reading dataset from local\n",
    "us_pop = pd.read_csv('data/us_population.csv')\n",
    "us_births_dths = pd.read_csv('data/us_births_deaths.csv')"
   ]
  },
  {
   "cell_type": "code",
   "execution_count": 13,
   "id": "47d3c23c",
   "metadata": {},
   "outputs": [
    {
     "data": {
      "text/html": [
       "<div>\n",
       "<style scoped>\n",
       "    .dataframe tbody tr th:only-of-type {\n",
       "        vertical-align: middle;\n",
       "    }\n",
       "\n",
       "    .dataframe tbody tr th {\n",
       "        vertical-align: top;\n",
       "    }\n",
       "\n",
       "    .dataframe thead th {\n",
       "        text-align: right;\n",
       "    }\n",
       "</style>\n",
       "<table border=\"1\" class=\"dataframe\">\n",
       "  <thead>\n",
       "    <tr style=\"text-align: right;\">\n",
       "      <th></th>\n",
       "      <th>State</th>\n",
       "      <th>Population</th>\n",
       "    </tr>\n",
       "  </thead>\n",
       "  <tbody>\n",
       "    <tr>\n",
       "      <th>0</th>\n",
       "      <td>California</td>\n",
       "      <td>39865590</td>\n",
       "    </tr>\n",
       "    <tr>\n",
       "      <th>1</th>\n",
       "      <td>Texas</td>\n",
       "      <td>29206997</td>\n",
       "    </tr>\n",
       "    <tr>\n",
       "      <th>2</th>\n",
       "      <td>Florida</td>\n",
       "      <td>21299325</td>\n",
       "    </tr>\n",
       "    <tr>\n",
       "      <th>3</th>\n",
       "      <td>New York</td>\n",
       "      <td>19542209</td>\n",
       "    </tr>\n",
       "    <tr>\n",
       "      <th>4</th>\n",
       "      <td>Pennsylvania</td>\n",
       "      <td>12807060</td>\n",
       "    </tr>\n",
       "  </tbody>\n",
       "</table>\n",
       "</div>"
      ],
      "text/plain": [
       "          State  Population\n",
       "0    California    39865590\n",
       "1         Texas    29206997\n",
       "2       Florida    21299325\n",
       "3      New York    19542209\n",
       "4  Pennsylvania    12807060"
      ]
     },
     "execution_count": 13,
     "metadata": {},
     "output_type": "execute_result"
    }
   ],
   "source": [
    "us_pop.head(5)"
   ]
  },
  {
   "cell_type": "code",
   "execution_count": 14,
   "id": "4d896800",
   "metadata": {},
   "outputs": [
    {
     "data": {
      "text/html": [
       "<div>\n",
       "<style scoped>\n",
       "    .dataframe tbody tr th:only-of-type {\n",
       "        vertical-align: middle;\n",
       "    }\n",
       "\n",
       "    .dataframe tbody tr th {\n",
       "        vertical-align: top;\n",
       "    }\n",
       "\n",
       "    .dataframe thead th {\n",
       "        text-align: right;\n",
       "    }\n",
       "</style>\n",
       "<table border=\"1\" class=\"dataframe\">\n",
       "  <thead>\n",
       "    <tr style=\"text-align: right;\">\n",
       "      <th></th>\n",
       "      <th>State</th>\n",
       "      <th>Births</th>\n",
       "      <th>Deaths</th>\n",
       "    </tr>\n",
       "  </thead>\n",
       "  <tbody>\n",
       "    <tr>\n",
       "      <th>0</th>\n",
       "      <td>Alabama</td>\n",
       "      <td>58941</td>\n",
       "      <td>53238</td>\n",
       "    </tr>\n",
       "    <tr>\n",
       "      <th>1</th>\n",
       "      <td>Alaska</td>\n",
       "      <td>10445</td>\n",
       "      <td>4411</td>\n",
       "    </tr>\n",
       "    <tr>\n",
       "      <th>2</th>\n",
       "      <td>Arizona</td>\n",
       "      <td>81872</td>\n",
       "      <td>57758</td>\n",
       "    </tr>\n",
       "    <tr>\n",
       "      <th>3</th>\n",
       "      <td>Arkansas</td>\n",
       "      <td>37520</td>\n",
       "      <td>32588</td>\n",
       "    </tr>\n",
       "    <tr>\n",
       "      <th>4</th>\n",
       "      <td>California</td>\n",
       "      <td>471658</td>\n",
       "      <td>268189</td>\n",
       "    </tr>\n",
       "  </tbody>\n",
       "</table>\n",
       "</div>"
      ],
      "text/plain": [
       "        State  Births  Deaths\n",
       "0     Alabama   58941   53238\n",
       "1      Alaska   10445    4411\n",
       "2     Arizona   81872   57758\n",
       "3    Arkansas   37520   32588\n",
       "4  California  471658  268189"
      ]
     },
     "execution_count": 14,
     "metadata": {},
     "output_type": "execute_result"
    }
   ],
   "source": [
    "us_births_dths.head(5)"
   ]
  },
  {
   "cell_type": "markdown",
   "id": "58779813",
   "metadata": {},
   "source": [
    "1. Calculate the birth rate and death rate for each state. For the purposes of this question you can define the rate as the # of births/deaths divided by the total population."
   ]
  },
  {
   "cell_type": "code",
   "execution_count": 15,
   "id": "7fa03d48",
   "metadata": {},
   "outputs": [],
   "source": [
    "#merge the two datasets\n",
    "us_pop_bths_dths = us_births_dths.merge(us_population, how='left', on='State')"
   ]
  },
  {
   "cell_type": "code",
   "execution_count": 16,
   "id": "70bc78ee",
   "metadata": {},
   "outputs": [
    {
     "data": {
      "text/html": [
       "<div>\n",
       "<style scoped>\n",
       "    .dataframe tbody tr th:only-of-type {\n",
       "        vertical-align: middle;\n",
       "    }\n",
       "\n",
       "    .dataframe tbody tr th {\n",
       "        vertical-align: top;\n",
       "    }\n",
       "\n",
       "    .dataframe thead th {\n",
       "        text-align: right;\n",
       "    }\n",
       "</style>\n",
       "<table border=\"1\" class=\"dataframe\">\n",
       "  <thead>\n",
       "    <tr style=\"text-align: right;\">\n",
       "      <th></th>\n",
       "      <th>State</th>\n",
       "      <th>Births</th>\n",
       "      <th>Deaths</th>\n",
       "      <th>Population</th>\n",
       "    </tr>\n",
       "  </thead>\n",
       "  <tbody>\n",
       "    <tr>\n",
       "      <th>0</th>\n",
       "      <td>Alabama</td>\n",
       "      <td>58941</td>\n",
       "      <td>53238</td>\n",
       "      <td>4887871</td>\n",
       "    </tr>\n",
       "    <tr>\n",
       "      <th>1</th>\n",
       "      <td>Alaska</td>\n",
       "      <td>10445</td>\n",
       "      <td>4411</td>\n",
       "      <td>737438</td>\n",
       "    </tr>\n",
       "    <tr>\n",
       "      <th>2</th>\n",
       "      <td>Arizona</td>\n",
       "      <td>81872</td>\n",
       "      <td>57758</td>\n",
       "      <td>7171646</td>\n",
       "    </tr>\n",
       "    <tr>\n",
       "      <th>3</th>\n",
       "      <td>Arkansas</td>\n",
       "      <td>37520</td>\n",
       "      <td>32588</td>\n",
       "      <td>3013825</td>\n",
       "    </tr>\n",
       "    <tr>\n",
       "      <th>4</th>\n",
       "      <td>California</td>\n",
       "      <td>471658</td>\n",
       "      <td>268189</td>\n",
       "      <td>39865590</td>\n",
       "    </tr>\n",
       "  </tbody>\n",
       "</table>\n",
       "</div>"
      ],
      "text/plain": [
       "        State  Births  Deaths  Population\n",
       "0     Alabama   58941   53238     4887871\n",
       "1      Alaska   10445    4411      737438\n",
       "2     Arizona   81872   57758     7171646\n",
       "3    Arkansas   37520   32588     3013825\n",
       "4  California  471658  268189    39865590"
      ]
     },
     "execution_count": 16,
     "metadata": {},
     "output_type": "execute_result"
    }
   ],
   "source": [
    "us_pop_bths_dths.head(5)"
   ]
  },
  {
   "cell_type": "code",
   "execution_count": 17,
   "id": "2b8e1f1d",
   "metadata": {},
   "outputs": [],
   "source": [
    "#Next, we can calculate the birth and death rates as requested in (1)\n",
    "#\n",
    "us_pop_bths_dths['Birth_rate'] = us_pop_bths_dths['Births']/us_pop_bths_dths['Population']\n",
    "us_pop_bths_dths['Death_rate'] = us_pop_bths_dths['Deaths']/us_pop_bths_dths['Population']"
   ]
  },
  {
   "cell_type": "code",
   "execution_count": 18,
   "id": "7d4e8ced",
   "metadata": {},
   "outputs": [
    {
     "data": {
      "text/html": [
       "<div>\n",
       "<style scoped>\n",
       "    .dataframe tbody tr th:only-of-type {\n",
       "        vertical-align: middle;\n",
       "    }\n",
       "\n",
       "    .dataframe tbody tr th {\n",
       "        vertical-align: top;\n",
       "    }\n",
       "\n",
       "    .dataframe thead th {\n",
       "        text-align: right;\n",
       "    }\n",
       "</style>\n",
       "<table border=\"1\" class=\"dataframe\">\n",
       "  <thead>\n",
       "    <tr style=\"text-align: right;\">\n",
       "      <th></th>\n",
       "      <th>State</th>\n",
       "      <th>Births</th>\n",
       "      <th>Deaths</th>\n",
       "      <th>Population</th>\n",
       "      <th>Birth_rate</th>\n",
       "      <th>Death_rate</th>\n",
       "    </tr>\n",
       "  </thead>\n",
       "  <tbody>\n",
       "    <tr>\n",
       "      <th>0</th>\n",
       "      <td>Alabama</td>\n",
       "      <td>58941</td>\n",
       "      <td>53238</td>\n",
       "      <td>4887871</td>\n",
       "      <td>0.012059</td>\n",
       "      <td>0.010892</td>\n",
       "    </tr>\n",
       "    <tr>\n",
       "      <th>1</th>\n",
       "      <td>Alaska</td>\n",
       "      <td>10445</td>\n",
       "      <td>4411</td>\n",
       "      <td>737438</td>\n",
       "      <td>0.014164</td>\n",
       "      <td>0.005982</td>\n",
       "    </tr>\n",
       "    <tr>\n",
       "      <th>2</th>\n",
       "      <td>Arizona</td>\n",
       "      <td>81872</td>\n",
       "      <td>57758</td>\n",
       "      <td>7171646</td>\n",
       "      <td>0.011416</td>\n",
       "      <td>0.008054</td>\n",
       "    </tr>\n",
       "    <tr>\n",
       "      <th>3</th>\n",
       "      <td>Arkansas</td>\n",
       "      <td>37520</td>\n",
       "      <td>32588</td>\n",
       "      <td>3013825</td>\n",
       "      <td>0.012449</td>\n",
       "      <td>0.010813</td>\n",
       "    </tr>\n",
       "    <tr>\n",
       "      <th>4</th>\n",
       "      <td>California</td>\n",
       "      <td>471658</td>\n",
       "      <td>268189</td>\n",
       "      <td>39865590</td>\n",
       "      <td>0.011831</td>\n",
       "      <td>0.006727</td>\n",
       "    </tr>\n",
       "  </tbody>\n",
       "</table>\n",
       "</div>"
      ],
      "text/plain": [
       "        State  Births  Deaths  Population  Birth_rate  Death_rate\n",
       "0     Alabama   58941   53238     4887871    0.012059    0.010892\n",
       "1      Alaska   10445    4411      737438    0.014164    0.005982\n",
       "2     Arizona   81872   57758     7171646    0.011416    0.008054\n",
       "3    Arkansas   37520   32588     3013825    0.012449    0.010813\n",
       "4  California  471658  268189    39865590    0.011831    0.006727"
      ]
     },
     "execution_count": 18,
     "metadata": {},
     "output_type": "execute_result"
    }
   ],
   "source": [
    "#\n",
    "us_pop_bths_dths.head()"
   ]
  },
  {
   "cell_type": "markdown",
   "id": "5eb1f9dc",
   "metadata": {},
   "source": [
    "2. Create a new column appended to the first dataset with the net population change (births-deaths) by state."
   ]
  },
  {
   "cell_type": "code",
   "execution_count": null,
   "id": "77175cc3",
   "metadata": {},
   "outputs": [],
   "source": []
  },
  {
   "cell_type": "markdown",
   "id": "21285049",
   "metadata": {},
   "source": [
    "3. Using the column from (2), project out the future population by state in 5 years, assuming the population change remains the same (on an absolute/n-count basis). You can assume each state's net transfer in/out rate from folks moving is 0 for this question's sake.For example, if CA's population is 30M and the birth-death rate is 150k, then the projected population in 5 years is just 30,000,000 + 150,0005 = 30.75M.*"
   ]
  },
  {
   "cell_type": "code",
   "execution_count": null,
   "id": "74f2150d",
   "metadata": {},
   "outputs": [],
   "source": []
  }
 ],
 "metadata": {
  "kernelspec": {
   "display_name": "Python 3.9 (tensorflow)",
   "language": "python",
   "name": "tensorflow"
  },
  "language_info": {
   "codemirror_mode": {
    "name": "ipython",
    "version": 3
   },
   "file_extension": ".py",
   "mimetype": "text/x-python",
   "name": "python",
   "nbconvert_exporter": "python",
   "pygments_lexer": "ipython3",
   "version": "3.9.13"
  }
 },
 "nbformat": 4,
 "nbformat_minor": 5
}
