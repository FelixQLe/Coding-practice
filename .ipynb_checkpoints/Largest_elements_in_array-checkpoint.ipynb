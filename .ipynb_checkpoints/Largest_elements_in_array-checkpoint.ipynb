{
 "cells": [
  {
   "cell_type": "markdown",
   "id": "62449017",
   "metadata": {},
   "source": [
    "Given an array with k distinct elements, write a function to return all elements that have at least two elements greater than themselves in the same array:\n",
    "\n",
    "For example:\n",
    "\n",
    "#Given the following:\n",
    "array = [2,3,9,7,6]\n",
    "\n",
    "#Your function should return:\n",
    "[2,3,6]"
   ]
  },
  {
   "cell_type": "code",
   "execution_count": 3,
   "id": "3d75f6cf",
   "metadata": {},
   "outputs": [
    {
     "name": "stdout",
     "output_type": "stream",
     "text": [
      "2 3 6 "
     ]
    }
   ],
   "source": [
    "def findGreaterTwo(arr, k): \n",
    "    #sorting and loop through the arr\n",
    "    arr.sort()\n",
    "    for i in range(0, k-2): \n",
    "        print(arr[i], end =\" \") \n",
    "\n",
    "#drivers\n",
    "arr = [2,3,9,7,6]\n",
    "k = len(arr) \n",
    "findGreaterTwo(arr, k)"
   ]
  },
  {
   "cell_type": "code",
   "execution_count": null,
   "id": "d8674027",
   "metadata": {},
   "outputs": [],
   "source": []
  }
 ],
 "metadata": {
  "kernelspec": {
   "display_name": "Python 3.9 (tensorflow)",
   "language": "python",
   "name": "tensorflow"
  },
  "language_info": {
   "codemirror_mode": {
    "name": "ipython",
    "version": 3
   },
   "file_extension": ".py",
   "mimetype": "text/x-python",
   "name": "python",
   "nbconvert_exporter": "python",
   "pygments_lexer": "ipython3",
   "version": "3.9.13"
  }
 },
 "nbformat": 4,
 "nbformat_minor": 5
}
