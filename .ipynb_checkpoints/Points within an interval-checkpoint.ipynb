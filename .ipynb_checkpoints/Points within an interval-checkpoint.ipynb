{
 "cells": [
  {
   "cell_type": "code",
   "execution_count": null,
   "id": "9ce75b53",
   "metadata": {},
   "outputs": [],
   "source": [
    "#defining a function to count the number of overlapping intervals\n",
    "def overlappingIntervals(P, z) : \n",
    "    \n",
    "    # Setting the length of the array\n",
    "    j = len(P) \n",
    "     \n",
    "    # Setting a counter for the number of overlaps\n",
    "    count = 0\n",
    "  \n",
    "    # Setting up loop to go through set of intervals\n",
    "    for i in range(j): \n",
    "              \n",
    "        # Variables to store start and end of an interval \n",
    "        left_point = P[i][0] \n",
    "        right_point = P[i][1] \n",
    "        \n",
    "        # You can uncomment this to see how we are traversing through\n",
    "        # the array of intervals!\n",
    "        #print(li)\n",
    "        #print(ri)\n",
    "  \n",
    "        # Checking to see if point z falls between the left or right value\n",
    "        # of the interval. If it meets the critera, we can increase the count\n",
    "        if (z >= left_point and z <= right_point) : \n",
    "            count += 1\n",
    "          \n",
    "    return count; "
   ]
  }
 ],
 "metadata": {
  "kernelspec": {
   "display_name": "Python 3.8 (tensorflow)",
   "language": "python",
   "name": "lighthouse"
  },
  "language_info": {
   "codemirror_mode": {
    "name": "ipython",
    "version": 3
   },
   "file_extension": ".py",
   "mimetype": "text/x-python",
   "name": "python",
   "nbconvert_exporter": "python",
   "pygments_lexer": "ipython3",
   "version": "3.9.13"
  }
 },
 "nbformat": 4,
 "nbformat_minor": 5
}
