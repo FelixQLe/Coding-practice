{
 "cells": [
  {
   "cell_type": "code",
   "execution_count": 1,
   "id": "f00577aa",
   "metadata": {},
   "outputs": [],
   "source": [
    "#defining a function to count the number of overlapping intervals\n",
    "def overlappingIntervals(P, z) : \n",
    "    \n",
    "    # Setting the length of the array\n",
    "    j = len(P) \n",
    "     \n",
    "    # Setting a counter for the number of overlaps\n",
    "    count = 0\n",
    "  \n",
    "    # Setting up loop to go through set of intervals\n",
    "    for i in range(j): \n",
    "              \n",
    "        # Variables to store start and end of an interval \n",
    "        left_point = P[i][0] \n",
    "        right_point = P[i][1] \n",
    "        \n",
    "        # You can uncomment this to see how we are traversing through\n",
    "        # the array of intervals!\n",
    "        #print(li)\n",
    "        #print(ri)\n",
    "  \n",
    "        # Checking to see if point z falls between the left or right value\n",
    "        # of the interval. If it meets the critera, we can increase the count\n",
    "        if (z >= left_point and z <= right_point) : \n",
    "            count += 1\n",
    "          \n",
    "    return count;"
   ]
  },
  {
   "cell_type": "code",
   "execution_count": 2,
   "id": "c01c67df",
   "metadata": {},
   "outputs": [
    {
     "name": "stdout",
     "output_type": "stream",
     "text": [
      "3\n"
     ]
    }
   ],
   "source": [
    "P = [[0, 2], [3, 7], [4, 6], [7, 8], [1 ,5]]\n",
    "z = 5\n",
    "print((overlappingIntervals(P, z)))"
   ]
  },
  {
   "cell_type": "code",
   "execution_count": 4,
   "id": "c3b4866c",
   "metadata": {},
   "outputs": [
    {
     "name": "stdout",
     "output_type": "stream",
     "text": [
      "4\n"
     ]
    }
   ],
   "source": [
    "# Testing code #2\n",
    "\n",
    "P = [[1, 10], [5, 10],  [15, 25], [7, 12],  [20, 25], [5,8]] \n",
    "z = 7\n",
    "print((overlappingIntervals(P, z))) "
   ]
  },
  {
   "cell_type": "code",
   "execution_count": null,
   "id": "6dae5ffc",
   "metadata": {},
   "outputs": [],
   "source": []
  }
 ],
 "metadata": {
  "kernelspec": {
   "display_name": "Python 3.8 (tensorflow)",
   "language": "python",
   "name": "lighthouse"
  },
  "language_info": {
   "codemirror_mode": {
    "name": "ipython",
    "version": 3
   },
   "file_extension": ".py",
   "mimetype": "text/x-python",
   "name": "python",
   "nbconvert_exporter": "python",
   "pygments_lexer": "ipython3",
   "version": "3.9.13"
  }
 },
 "nbformat": 4,
 "nbformat_minor": 5
}
