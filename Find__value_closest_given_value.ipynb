{
 "cells": [
  {
   "cell_type": "code",
   "execution_count": 3,
   "id": "37837409",
   "metadata": {},
   "outputs": [
    {
     "data": {
      "text/plain": [
       "2"
      ]
     },
     "execution_count": 3,
     "metadata": {},
     "output_type": "execute_result"
    }
   ],
   "source": [
    "import numpy as np\n",
    "\n",
    "#return the smaller value\n",
    "def find_nearest(array, value):\n",
    "     array = np.asarray(array)\n",
    "     idx = (np.abs(array - value)).argmin()\n",
    "     return array[idx]\n",
    "\n",
    "#Driver code\n",
    "Q = [1, -1, -5, 2, 4, -2, 1]\n",
    "j = 3\n",
    "find_nearest(Q,j)\n"
   ]
  },
  {
   "cell_type": "code",
   "execution_count": null,
   "id": "18f416ab",
   "metadata": {},
   "outputs": [],
   "source": []
  }
 ],
 "metadata": {
  "kernelspec": {
   "display_name": "Python 3.8 (tensorflow)",
   "language": "python",
   "name": "lighthouse"
  },
  "language_info": {
   "codemirror_mode": {
    "name": "ipython",
    "version": 3
   },
   "file_extension": ".py",
   "mimetype": "text/x-python",
   "name": "python",
   "nbconvert_exporter": "python",
   "pygments_lexer": "ipython3",
   "version": "3.9.13"
  }
 },
 "nbformat": 4,
 "nbformat_minor": 5
}
