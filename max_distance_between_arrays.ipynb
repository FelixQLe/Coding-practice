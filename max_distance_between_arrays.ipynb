{
 "cells": [
  {
   "cell_type": "code",
   "execution_count": 1,
   "id": "bd3e83c7",
   "metadata": {},
   "outputs": [],
   "source": [
    "#set up function\n",
    "def solve(array, i): \n",
    "    \n",
    "  # Initial sort of the array \n",
    "  array.sort() \n",
    "  \n",
    "  # First, we sum of all the elements \n",
    "  sum_all = sum(array) \n",
    "  \n",
    "  # Next, we grab the sum of the first i elements \n",
    "  # using Python's array slice notation\n",
    "  sum_first_i = sum(array[:i]) \n",
    "  \n",
    "  # Next, we grab the sum of the last i elements \n",
    "  # using Python's array slice notation\n",
    "  sum_last_i = sum(array[i:]) \n",
    "  \n",
    "  # Here, we can use Python's max function to return \n",
    "  # the maximum possible difference between the two formulas\n",
    "  return max(abs(sum_first_i-(sum_all-sum_first_i)), abs(sum_last_i-(sum_all-sum_last_i))) "
   ]
  },
  {
   "cell_type": "code",
   "execution_count": 4,
   "id": "07e1ea83",
   "metadata": {},
   "outputs": [
    {
     "name": "stdout",
     "output_type": "stream",
     "text": [
      "8\n"
     ]
    }
   ],
   "source": [
    "# Driver function \n",
    "i = 3\n",
    "array = [2, 4, 3, 1, 10]\n",
    "print(solve(array, i))"
   ]
  },
  {
   "cell_type": "code",
   "execution_count": null,
   "id": "53ff1da2",
   "metadata": {},
   "outputs": [],
   "source": []
  }
 ],
 "metadata": {
  "kernelspec": {
   "display_name": "Python 3.8 (tensorflow)",
   "language": "python",
   "name": "lighthouse"
  },
  "language_info": {
   "codemirror_mode": {
    "name": "ipython",
    "version": 3
   },
   "file_extension": ".py",
   "mimetype": "text/x-python",
   "name": "python",
   "nbconvert_exporter": "python",
   "pygments_lexer": "ipython3",
   "version": "3.9.13"
  }
 },
 "nbformat": 4,
 "nbformat_minor": 5
}
